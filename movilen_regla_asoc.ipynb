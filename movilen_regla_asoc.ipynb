{
  "nbformat": 4,
  "nbformat_minor": 0,
  "metadata": {
    "kernelspec": {
      "display_name": "Python 3",
      "language": "python",
      "name": "python3"
    },
    "language_info": {
      "codemirror_mode": {
        "name": "ipython",
        "version": 3
      },
      "file_extension": ".py",
      "mimetype": "text/x-python",
      "name": "python",
      "nbconvert_exporter": "python",
      "pygments_lexer": "ipython3",
      "version": "3.7.3"
    },
    "colab": {
      "name": "movilen_regla_asoc.ipynb",
      "version": "0.3.2",
      "provenance": [],
      "collapsed_sections": [],
      "toc_visible": true
    }
  },
  "cells": [
    {
      "cell_type": "markdown",
      "metadata": {
        "id": "T-Oz9DtwTybZ",
        "colab_type": "text"
      },
      "source": [
        "## Aprendizaje de reglas de asociación"
      ]
    },
    {
      "cell_type": "code",
      "metadata": {
        "id": "4UFo-ye7Tybc",
        "colab_type": "code",
        "colab": {}
      },
      "source": [
        "import pandas as pd\n",
        "import numpy as np\n",
        "import sys\n",
        "from itertools import combinations, groupby\n",
        "from collections import Counter\n",
        "from IPython.display import display\n",
        "from sklearn.utils import shuffle\n",
        "!pip install -q efficient_apriori\n",
        "from efficient_apriori import apriori\n",
        "\n"
      ],
      "execution_count": 0,
      "outputs": []
    },
    {
      "cell_type": "code",
      "metadata": {
        "id": "KaGsHUDJTybf",
        "colab_type": "code",
        "colab": {}
      },
      "source": [
        "def size(obj):\n",
        "    return \"{0:.2f} MB\".format(sys.getsizeof(obj) / (1000 * 1000))"
      ],
      "execution_count": 0,
      "outputs": []
    },
    {
      "cell_type": "code",
      "metadata": {
        "id": "z-ChCKsbTybh",
        "colab_type": "code",
        "outputId": "925312ea-5325-4c77-9449-3fc2374fe7a1",
        "colab": {
          "base_uri": "https://localhost:8080/",
          "height": 595
        }
      },
      "source": [
        "movies = pd.read_csv('movies.csv')\n",
        "ratings = pd.read_csv('ratings.csv')\n",
        "\n",
        "# es muy pesado trabajar con toda la base...\n",
        "print('movies -- dimensions: {0};   size: {1}'.format(movies.shape, size(movies)))\n",
        "display(movies.head())\n",
        "display(movies.tail())\n",
        "display(ratings.head())"
      ],
      "execution_count": 4,
      "outputs": [
        {
          "output_type": "stream",
          "text": [
            "movies -- dimensions: (27278, 3);   size: 4.50 MB\n"
          ],
          "name": "stdout"
        },
        {
          "output_type": "display_data",
          "data": {
            "text/html": [
              "<div>\n",
              "<style scoped>\n",
              "    .dataframe tbody tr th:only-of-type {\n",
              "        vertical-align: middle;\n",
              "    }\n",
              "\n",
              "    .dataframe tbody tr th {\n",
              "        vertical-align: top;\n",
              "    }\n",
              "\n",
              "    .dataframe thead th {\n",
              "        text-align: right;\n",
              "    }\n",
              "</style>\n",
              "<table border=\"1\" class=\"dataframe\">\n",
              "  <thead>\n",
              "    <tr style=\"text-align: right;\">\n",
              "      <th></th>\n",
              "      <th>movieId</th>\n",
              "      <th>title</th>\n",
              "      <th>genres</th>\n",
              "    </tr>\n",
              "  </thead>\n",
              "  <tbody>\n",
              "    <tr>\n",
              "      <th>0</th>\n",
              "      <td>1</td>\n",
              "      <td>Toy Story (1995)</td>\n",
              "      <td>Adventure|Animation|Children|Comedy|Fantasy</td>\n",
              "    </tr>\n",
              "    <tr>\n",
              "      <th>1</th>\n",
              "      <td>2</td>\n",
              "      <td>Jumanji (1995)</td>\n",
              "      <td>Adventure|Children|Fantasy</td>\n",
              "    </tr>\n",
              "    <tr>\n",
              "      <th>2</th>\n",
              "      <td>3</td>\n",
              "      <td>Grumpier Old Men (1995)</td>\n",
              "      <td>Comedy|Romance</td>\n",
              "    </tr>\n",
              "    <tr>\n",
              "      <th>3</th>\n",
              "      <td>4</td>\n",
              "      <td>Waiting to Exhale (1995)</td>\n",
              "      <td>Comedy|Drama|Romance</td>\n",
              "    </tr>\n",
              "    <tr>\n",
              "      <th>4</th>\n",
              "      <td>5</td>\n",
              "      <td>Father of the Bride Part II (1995)</td>\n",
              "      <td>Comedy</td>\n",
              "    </tr>\n",
              "  </tbody>\n",
              "</table>\n",
              "</div>"
            ],
            "text/plain": [
              "   movieId  ...                                       genres\n",
              "0        1  ...  Adventure|Animation|Children|Comedy|Fantasy\n",
              "1        2  ...                   Adventure|Children|Fantasy\n",
              "2        3  ...                               Comedy|Romance\n",
              "3        4  ...                         Comedy|Drama|Romance\n",
              "4        5  ...                                       Comedy\n",
              "\n",
              "[5 rows x 3 columns]"
            ]
          },
          "metadata": {
            "tags": []
          }
        },
        {
          "output_type": "display_data",
          "data": {
            "text/html": [
              "<div>\n",
              "<style scoped>\n",
              "    .dataframe tbody tr th:only-of-type {\n",
              "        vertical-align: middle;\n",
              "    }\n",
              "\n",
              "    .dataframe tbody tr th {\n",
              "        vertical-align: top;\n",
              "    }\n",
              "\n",
              "    .dataframe thead th {\n",
              "        text-align: right;\n",
              "    }\n",
              "</style>\n",
              "<table border=\"1\" class=\"dataframe\">\n",
              "  <thead>\n",
              "    <tr style=\"text-align: right;\">\n",
              "      <th></th>\n",
              "      <th>movieId</th>\n",
              "      <th>title</th>\n",
              "      <th>genres</th>\n",
              "    </tr>\n",
              "  </thead>\n",
              "  <tbody>\n",
              "    <tr>\n",
              "      <th>27273</th>\n",
              "      <td>131254</td>\n",
              "      <td>Kein Bund für's Leben (2007)</td>\n",
              "      <td>Comedy</td>\n",
              "    </tr>\n",
              "    <tr>\n",
              "      <th>27274</th>\n",
              "      <td>131256</td>\n",
              "      <td>Feuer, Eis &amp; Dosenbier (2002)</td>\n",
              "      <td>Comedy</td>\n",
              "    </tr>\n",
              "    <tr>\n",
              "      <th>27275</th>\n",
              "      <td>131258</td>\n",
              "      <td>The Pirates (2014)</td>\n",
              "      <td>Adventure</td>\n",
              "    </tr>\n",
              "    <tr>\n",
              "      <th>27276</th>\n",
              "      <td>131260</td>\n",
              "      <td>Rentun Ruusu (2001)</td>\n",
              "      <td>(no genres listed)</td>\n",
              "    </tr>\n",
              "    <tr>\n",
              "      <th>27277</th>\n",
              "      <td>131262</td>\n",
              "      <td>Innocence (2014)</td>\n",
              "      <td>Adventure|Fantasy|Horror</td>\n",
              "    </tr>\n",
              "  </tbody>\n",
              "</table>\n",
              "</div>"
            ],
            "text/plain": [
              "       movieId                          title                    genres\n",
              "27273   131254   Kein Bund für's Leben (2007)                    Comedy\n",
              "27274   131256  Feuer, Eis & Dosenbier (2002)                    Comedy\n",
              "27275   131258             The Pirates (2014)                 Adventure\n",
              "27276   131260            Rentun Ruusu (2001)        (no genres listed)\n",
              "27277   131262               Innocence (2014)  Adventure|Fantasy|Horror"
            ]
          },
          "metadata": {
            "tags": []
          }
        },
        {
          "output_type": "display_data",
          "data": {
            "text/html": [
              "<div>\n",
              "<style scoped>\n",
              "    .dataframe tbody tr th:only-of-type {\n",
              "        vertical-align: middle;\n",
              "    }\n",
              "\n",
              "    .dataframe tbody tr th {\n",
              "        vertical-align: top;\n",
              "    }\n",
              "\n",
              "    .dataframe thead th {\n",
              "        text-align: right;\n",
              "    }\n",
              "</style>\n",
              "<table border=\"1\" class=\"dataframe\">\n",
              "  <thead>\n",
              "    <tr style=\"text-align: right;\">\n",
              "      <th></th>\n",
              "      <th>userId</th>\n",
              "      <th>movieId</th>\n",
              "      <th>rating</th>\n",
              "      <th>timestamp</th>\n",
              "    </tr>\n",
              "  </thead>\n",
              "  <tbody>\n",
              "    <tr>\n",
              "      <th>0</th>\n",
              "      <td>1</td>\n",
              "      <td>2.0</td>\n",
              "      <td>3.5</td>\n",
              "      <td>1.112486e+09</td>\n",
              "    </tr>\n",
              "    <tr>\n",
              "      <th>1</th>\n",
              "      <td>1</td>\n",
              "      <td>29.0</td>\n",
              "      <td>3.5</td>\n",
              "      <td>1.112485e+09</td>\n",
              "    </tr>\n",
              "    <tr>\n",
              "      <th>2</th>\n",
              "      <td>1</td>\n",
              "      <td>32.0</td>\n",
              "      <td>3.5</td>\n",
              "      <td>1.112485e+09</td>\n",
              "    </tr>\n",
              "    <tr>\n",
              "      <th>3</th>\n",
              "      <td>1</td>\n",
              "      <td>47.0</td>\n",
              "      <td>3.5</td>\n",
              "      <td>1.112485e+09</td>\n",
              "    </tr>\n",
              "    <tr>\n",
              "      <th>4</th>\n",
              "      <td>1</td>\n",
              "      <td>50.0</td>\n",
              "      <td>3.5</td>\n",
              "      <td>1.112485e+09</td>\n",
              "    </tr>\n",
              "  </tbody>\n",
              "</table>\n",
              "</div>"
            ],
            "text/plain": [
              "   userId  movieId  rating     timestamp\n",
              "0       1      2.0     3.5  1.112486e+09\n",
              "1       1     29.0     3.5  1.112485e+09\n",
              "2       1     32.0     3.5  1.112485e+09\n",
              "3       1     47.0     3.5  1.112485e+09\n",
              "4       1     50.0     3.5  1.112485e+09"
            ]
          },
          "metadata": {
            "tags": []
          }
        }
      ]
    },
    {
      "cell_type": "code",
      "metadata": {
        "id": "f49W0Rn7XNGo",
        "colab_type": "code",
        "outputId": "78b095d6-f9b6-4536-f3cc-028f91259c20",
        "colab": {
          "base_uri": "https://localhost:8080/",
          "height": 34
        }
      },
      "source": [
        "#sacar peliculas con genero invalido.\n",
        "print(len(movies[movies.genres == '(no genres listed)'].index))"
      ],
      "execution_count": 5,
      "outputs": [
        {
          "output_type": "stream",
          "text": [
            "246\n"
          ],
          "name": "stdout"
        }
      ]
    },
    {
      "cell_type": "code",
      "metadata": {
        "id": "LsmCqkzMXvSp",
        "colab_type": "code",
        "outputId": "b28b348c-1b35-4ee9-932b-9e536436db42",
        "colab": {
          "base_uri": "https://localhost:8080/",
          "height": 51
        }
      },
      "source": [
        "print(len(movies.index))\n",
        "movies.drop(movies[movies.genres == '(no genres listed)'].index, inplace=True)\n",
        "print(len(movies.index))"
      ],
      "execution_count": 6,
      "outputs": [
        {
          "output_type": "stream",
          "text": [
            "27278\n",
            "27032\n"
          ],
          "name": "stdout"
        }
      ]
    },
    {
      "cell_type": "code",
      "metadata": {
        "id": "SwUTtMg1Tybl",
        "colab_type": "code",
        "outputId": "f0131732-b4e7-4248-c54e-031d42e604ee",
        "colab": {
          "base_uri": "https://localhost:8080/",
          "height": 34
        }
      },
      "source": [
        "movies = shuffle(movies, random_state=47).head(int(len(movies)/10))\n",
        "print('movies -- dimensions: {0};   size: {1}'.format(movies.shape, size(movies)))"
      ],
      "execution_count": 7,
      "outputs": [
        {
          "output_type": "stream",
          "text": [
            "movies -- dimensions: (2703, 3);   size: 0.47 MB\n"
          ],
          "name": "stdout"
        }
      ]
    },
    {
      "cell_type": "code",
      "metadata": {
        "id": "YoHrQ3o2Tybn",
        "colab_type": "code",
        "outputId": "d45dd0ae-dae5-4cb6-8f2d-06389c532140",
        "colab": {
          "base_uri": "https://localhost:8080/",
          "height": 255
        }
      },
      "source": [
        "#decodificar el nombre de los productos\n",
        "merged_df = pd.merge(movies[['movieId','title']], ratings[['movieId','userId']] ,on='movieId', how= \"inner\")\n",
        "\n",
        "display(merged_df.head())\n",
        "merged_df=merged_df.sort_values( by='userId', axis=0, ascending=True, inplace=False, kind='quicksort', na_position='last')\n",
        "merged=merged_df.values[:,[0,2]] # 0 es movieId, 2 es userId\n",
        "print(len(merged)) # este merged tiene en 0 el movieId, el 1 el userId\n",
        "print(merged[:2])"
      ],
      "execution_count": 8,
      "outputs": [
        {
          "output_type": "display_data",
          "data": {
            "text/html": [
              "<div>\n",
              "<style scoped>\n",
              "    .dataframe tbody tr th:only-of-type {\n",
              "        vertical-align: middle;\n",
              "    }\n",
              "\n",
              "    .dataframe tbody tr th {\n",
              "        vertical-align: top;\n",
              "    }\n",
              "\n",
              "    .dataframe thead th {\n",
              "        text-align: right;\n",
              "    }\n",
              "</style>\n",
              "<table border=\"1\" class=\"dataframe\">\n",
              "  <thead>\n",
              "    <tr style=\"text-align: right;\">\n",
              "      <th></th>\n",
              "      <th>movieId</th>\n",
              "      <th>title</th>\n",
              "      <th>userId</th>\n",
              "    </tr>\n",
              "  </thead>\n",
              "  <tbody>\n",
              "    <tr>\n",
              "      <th>0</th>\n",
              "      <td>26736</td>\n",
              "      <td>Riki-Oh: The Story of Ricky (Lik Wong) (1991)</td>\n",
              "      <td>451</td>\n",
              "    </tr>\n",
              "    <tr>\n",
              "      <th>1</th>\n",
              "      <td>26736</td>\n",
              "      <td>Riki-Oh: The Story of Ricky (Lik Wong) (1991)</td>\n",
              "      <td>1590</td>\n",
              "    </tr>\n",
              "    <tr>\n",
              "      <th>2</th>\n",
              "      <td>26736</td>\n",
              "      <td>Riki-Oh: The Story of Ricky (Lik Wong) (1991)</td>\n",
              "      <td>2601</td>\n",
              "    </tr>\n",
              "    <tr>\n",
              "      <th>3</th>\n",
              "      <td>87234</td>\n",
              "      <td>Submarine (2010)</td>\n",
              "      <td>348</td>\n",
              "    </tr>\n",
              "    <tr>\n",
              "      <th>4</th>\n",
              "      <td>87234</td>\n",
              "      <td>Submarine (2010)</td>\n",
              "      <td>482</td>\n",
              "    </tr>\n",
              "  </tbody>\n",
              "</table>\n",
              "</div>"
            ],
            "text/plain": [
              "   movieId                                          title  userId\n",
              "0    26736  Riki-Oh: The Story of Ricky (Lik Wong) (1991)     451\n",
              "1    26736  Riki-Oh: The Story of Ricky (Lik Wong) (1991)    1590\n",
              "2    26736  Riki-Oh: The Story of Ricky (Lik Wong) (1991)    2601\n",
              "3    87234                               Submarine (2010)     348\n",
              "4    87234                               Submarine (2010)     482"
            ]
          },
          "metadata": {
            "tags": []
          }
        },
        {
          "output_type": "stream",
          "text": [
            "38725\n",
            "[[2692 1]\n",
            " [7389 1]]\n"
          ],
          "name": "stdout"
        }
      ]
    },
    {
      "cell_type": "code",
      "metadata": {
        "id": "tE-u5jNrTybv",
        "colab_type": "code",
        "outputId": "7dd0b2eb-cb22-48f0-9103-b4cd1533430b",
        "colab": {
          "base_uri": "https://localhost:8080/",
          "height": 51
        }
      },
      "source": [
        "transactions=[]\n",
        "for movie_id, movie_object in groupby(merged, lambda x: x[1]):\n",
        "    transactions.append([item[0] for item in movie_object])\n",
        "print(len(transactions))\n",
        "print(transactions[:2])"
      ],
      "execution_count": 9,
      "outputs": [
        {
          "output_type": "stream",
          "text": [
            "2791\n",
            "[[2692, 7389, 1258, 1219, 1217, 1193, 1291, 3037, 5039, 2762], [3753, 2454, 62, 1356, 1121]]\n"
          ],
          "name": "stdout"
        }
      ]
    },
    {
      "cell_type": "code",
      "metadata": {
        "id": "DH7tXcx-Tybz",
        "colab_type": "code",
        "outputId": "42b602a8-fde8-430f-ebb6-ca27dbb26ab4",
        "colab": {
          "base_uri": "https://localhost:8080/",
          "height": 34
        }
      },
      "source": [
        "itemsets, rules = apriori(transactions, min_support=0.006,  min_confidence=0.8, max_length=3)\n",
        "len(rules)"
      ],
      "execution_count": 10,
      "outputs": [
        {
          "output_type": "execute_result",
          "data": {
            "text/plain": [
              "23455"
            ]
          },
          "metadata": {
            "tags": []
          },
          "execution_count": 10
        }
      ]
    },
    {
      "cell_type": "code",
      "metadata": {
        "id": "Q1_28Kn_Tyb2",
        "colab_type": "code",
        "outputId": "dd07da8d-f985-43dc-b527-3743aa1499b9",
        "colab": {
          "base_uri": "https://localhost:8080/",
          "height": 34
        }
      },
      "source": [
        "#rules = filter(lambda rule: len(rule.lhs) == 2 and len(rule.rhs) == 1, rules)\n",
        "rules=sorted(rules, key=lambda rule: rule.confidence)\n",
        "print(rules[:3])\n"
      ],
      "execution_count": 11,
      "outputs": [
        {
          "output_type": "stream",
          "text": [
            "[{1260} -> {904}, {3169} -> {1193}, {2119} -> {1258}]\n"
          ],
          "name": "stdout"
        }
      ]
    },
    {
      "cell_type": "code",
      "metadata": {
        "id": "ZGeXA1VqeUvM",
        "colab_type": "code",
        "outputId": "c99a2bff-1c6f-404b-f5cb-7701d4060d5c",
        "colab": {
          "base_uri": "https://localhost:8080/",
          "height": 71
        }
      },
      "source": [
        "rules_dict = [{'rule_lhs':x.lhs, 'rule_rhs':x.rhs, 'confidence':x.confidence, 'support':x.support, 'lift':x.lift, 'conviction':x.conviction} for x in rules]\n",
        "print(len(rules_dict))\n",
        "print(rules_dict[:2])"
      ],
      "execution_count": 12,
      "outputs": [
        {
          "output_type": "stream",
          "text": [
            "23455\n",
            "[{'rule_lhs': (1260,), 'rule_rhs': (904,), 'confidence': 0.8, 'support': 0.02293084915800788, 'lift': 6.0839237057220705, 'conviction': 4.342529537585096}, {'rule_lhs': (3169,), 'rule_rhs': (1193,), 'confidence': 0.8, 'support': 0.007165890361877463, 'lift': 3.5385103011093504, 'conviction': 3.869580776065927}]\n"
          ],
          "name": "stdout"
        }
      ]
    },
    {
      "cell_type": "code",
      "metadata": {
        "id": "2CVODbH3Tyb6",
        "colab_type": "code",
        "colab": {}
      },
      "source": [
        "rules_df = pd.DataFrame(rules_dict)"
      ],
      "execution_count": 0,
      "outputs": []
    },
    {
      "cell_type": "code",
      "metadata": {
        "id": "kIDFZROTgQh4",
        "colab_type": "code",
        "outputId": "f05ed8fd-a0e9-4e55-d8e2-0cde120f6341",
        "colab": {
          "base_uri": "https://localhost:8080/",
          "height": 238
        }
      },
      "source": [
        "print(len(rules_df.index))\n",
        "print(rules_df.head())\n",
        "print(rules_df.tail())"
      ],
      "execution_count": 14,
      "outputs": [
        {
          "output_type": "stream",
          "text": [
            "23455\n",
            "   confidence  conviction      lift rule_lhs rule_rhs   support\n",
            "0         0.8    4.342530  6.083924  (1260,)   (904,)  0.022931\n",
            "1         0.8    3.869581  3.538510  (3169,)  (1193,)  0.007166\n",
            "2         0.8    4.098889  4.438966  (2119,)  (1258,)  0.008599\n",
            "3         0.8    3.575779  2.808553  (1648,)  (2762,)  0.008599\n",
            "4         0.8    3.575779  2.808553  (2331,)  (2762,)  0.007166\n",
            "       confidence    conviction       lift        rule_lhs  rule_rhs   support\n",
            "23450         1.0  8.269437e+08   5.778468   (8985, 52328)   (6874,)  0.006091\n",
            "23451         1.0  9.100681e+08  11.119522   (7099, 65261)  (60069,)  0.006091\n",
            "23452         1.0  9.100681e+08  11.119522   (7099, 78499)  (60069,)  0.006091\n",
            "23453         1.0  9.254747e+08  13.418269   (8665, 88163)  (54286,)  0.006091\n",
            "23454         1.0  9.100681e+08  11.119522  (78499, 95167)  (60069,)  0.007166\n"
          ],
          "name": "stdout"
        }
      ]
    },
    {
      "cell_type": "code",
      "metadata": {
        "id": "Su_7NADzgoS1",
        "colab_type": "code",
        "outputId": "ee0343d1-4c1d-4cc2-fd13-b6890c9aa1da",
        "colab": {
          "base_uri": "https://localhost:8080/",
          "height": 297
        }
      },
      "source": [
        "rules_df.describe()\n",
        "# Soporte: nos dice la prob empirica de q se compre el itemset Y dado q SABEMOS q se compro el itemset X. \n",
        "## De las tx q compraron X, cuantas tmb compraron Y?\n",
        "# Confianza: de las tx que contienen a X, cuantas de estas tambien contienen a Y?. \n",
        "## De los q compraron el itemset X que % tambien compro el itemset Y.\n",
        "# Lift: mide el incremento de Pr de Y dado q SABEMOS q se compro X. Rsuleve el problema de cuando la\n",
        "# confianza es muy parecida a la Pr apriori de Y (# tx q contienen Y / # tx total).\n",
        "## > 1, la Pr de Y aumente una vez q SABEMOS q l consumidor compro X.\n",
        "## = 1, X e Y son eventos independientes, q haya comprado X no quiere decir q haya comprado Y, hay causalidad.\n",
        "## < 1, la ocurrencia de X tuvo un efecto negativo en la ocurrencia de Y haciedno que bajo su Pr. \n",
        "## La gente que compra X tiene una menor Pr de comprar Y comparado con la Pr apriori de comprar Y.\n",
        "# Conviccion ??"
      ],
      "execution_count": 15,
      "outputs": [
        {
          "output_type": "execute_result",
          "data": {
            "text/html": [
              "<div>\n",
              "<style scoped>\n",
              "    .dataframe tbody tr th:only-of-type {\n",
              "        vertical-align: middle;\n",
              "    }\n",
              "\n",
              "    .dataframe tbody tr th {\n",
              "        vertical-align: top;\n",
              "    }\n",
              "\n",
              "    .dataframe thead th {\n",
              "        text-align: right;\n",
              "    }\n",
              "</style>\n",
              "<table border=\"1\" class=\"dataframe\">\n",
              "  <thead>\n",
              "    <tr style=\"text-align: right;\">\n",
              "      <th></th>\n",
              "      <th>confidence</th>\n",
              "      <th>conviction</th>\n",
              "      <th>lift</th>\n",
              "      <th>support</th>\n",
              "    </tr>\n",
              "  </thead>\n",
              "  <tbody>\n",
              "    <tr>\n",
              "      <th>count</th>\n",
              "      <td>23455.000000</td>\n",
              "      <td>2.345500e+04</td>\n",
              "      <td>23455.000000</td>\n",
              "      <td>23455.000000</td>\n",
              "    </tr>\n",
              "    <tr>\n",
              "      <th>mean</th>\n",
              "      <td>0.871165</td>\n",
              "      <td>3.054593e+07</td>\n",
              "      <td>4.165142</td>\n",
              "      <td>0.010911</td>\n",
              "    </tr>\n",
              "    <tr>\n",
              "      <th>std</th>\n",
              "      <td>0.052946</td>\n",
              "      <td>1.482790e+08</td>\n",
              "      <td>2.019628</td>\n",
              "      <td>0.006992</td>\n",
              "    </tr>\n",
              "    <tr>\n",
              "      <th>min</th>\n",
              "      <td>0.800000</td>\n",
              "      <td>3.230025e+00</td>\n",
              "      <td>2.259919</td>\n",
              "      <td>0.006091</td>\n",
              "    </tr>\n",
              "    <tr>\n",
              "      <th>25%</th>\n",
              "      <td>0.826087</td>\n",
              "      <td>4.452436e+00</td>\n",
              "      <td>2.860564</td>\n",
              "      <td>0.006808</td>\n",
              "    </tr>\n",
              "    <tr>\n",
              "      <th>50%</th>\n",
              "      <td>0.861111</td>\n",
              "      <td>5.509546e+00</td>\n",
              "      <td>3.486098</td>\n",
              "      <td>0.008241</td>\n",
              "    </tr>\n",
              "    <tr>\n",
              "      <th>75%</th>\n",
              "      <td>0.904762</td>\n",
              "      <td>8.026514e+00</td>\n",
              "      <td>4.940618</td>\n",
              "      <td>0.012182</td>\n",
              "    </tr>\n",
              "    <tr>\n",
              "      <th>max</th>\n",
              "      <td>1.000000</td>\n",
              "      <td>9.254747e+08</td>\n",
              "      <td>28.242262</td>\n",
              "      <td>0.122178</td>\n",
              "    </tr>\n",
              "  </tbody>\n",
              "</table>\n",
              "</div>"
            ],
            "text/plain": [
              "         confidence    conviction          lift       support\n",
              "count  23455.000000  2.345500e+04  23455.000000  23455.000000\n",
              "mean       0.871165  3.054593e+07      4.165142      0.010911\n",
              "std        0.052946  1.482790e+08      2.019628      0.006992\n",
              "min        0.800000  3.230025e+00      2.259919      0.006091\n",
              "25%        0.826087  4.452436e+00      2.860564      0.006808\n",
              "50%        0.861111  5.509546e+00      3.486098      0.008241\n",
              "75%        0.904762  8.026514e+00      4.940618      0.012182\n",
              "max        1.000000  9.254747e+08     28.242262      0.122178"
            ]
          },
          "metadata": {
            "tags": []
          },
          "execution_count": 15
        }
      ]
    },
    {
      "cell_type": "code",
      "metadata": {
        "id": "L40Iji9JiXJ9",
        "colab_type": "code",
        "colab": {}
      },
      "source": [
        "final_rules_df = rules_df[(rules_df.lift >= 7.0)]"
      ],
      "execution_count": 0,
      "outputs": []
    },
    {
      "cell_type": "code",
      "metadata": {
        "id": "jfyXXrLbwVwL",
        "colab_type": "code",
        "outputId": "08683278-4ba1-4917-87d4-31872b877c82",
        "colab": {
          "base_uri": "https://localhost:8080/",
          "height": 221
        }
      },
      "source": [
        "print(len(final_rules_df.index))\n",
        "print(final_rules_df[:10])"
      ],
      "execution_count": 17,
      "outputs": [
        {
          "output_type": "stream",
          "text": [
            "1740\n",
            "    confidence  conviction       lift    rule_lhs rule_rhs   support\n",
            "18         0.8    4.553923   8.967068   (5, 2405)  (1377,)  0.008599\n",
            "21         0.8    4.539592   8.687938   (5, 2496)  (3253,)  0.007166\n",
            "23         0.8    4.539592   8.687938   (5, 3617)  (3253,)  0.007166\n",
            "24         0.8    4.722322  14.405161   (5, 3617)  (4270,)  0.007166\n",
            "26         0.8    4.460767   7.417940   (12, 161)   (370,)  0.008599\n",
            "27         0.8    4.460767   7.417940  (12, 1219)   (370,)  0.007166\n",
            "28         0.8    4.460767   7.417940  (12, 2294)   (370,)  0.007166\n",
            "36         0.8    4.761734  16.787970   (20, 216)   (413,)  0.007166\n",
            "40         0.8    4.539592   8.687938  (20, 2762)  (3253,)  0.007166\n",
            "79         0.8    4.539592   8.687938  (34, 3477)  (3253,)  0.008599\n"
          ],
          "name": "stdout"
        }
      ]
    },
    {
      "cell_type": "code",
      "metadata": {
        "id": "PHdSZRCxpw2h",
        "colab_type": "code",
        "colab": {}
      },
      "source": [
        ""
      ],
      "execution_count": 0,
      "outputs": []
    }
  ]
}